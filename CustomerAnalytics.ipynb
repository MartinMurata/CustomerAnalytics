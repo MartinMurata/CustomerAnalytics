{
 "cells": [
  {
   "cell_type": "markdown",
   "metadata": {},
   "source": [
    "# Customer Analytics - Group 104\n",
    "## members: Martin Murata, Andranik Saakyan, Josh Lu\n",
    "### Problem: <br>\n",
    "    - binary classification, \"will this customer churn (leave for diff service) or not\" <br> \n",
    "### Constraints: \n",
    "    - Because this is a relatively small data set, so you will have to balance creating flexible models with regularization or other forms of complexity control, but will not have to worry too much about computational complexity.\n",
    "    - We expect you to experiment with at least three (more is good) different types of classification models.  While these can be of the same type as used in homeworks, they must go beyond the scope of the models used in Homework 4"
   ]
  },
  {
   "cell_type": "markdown",
   "metadata": {},
   "source": [
    "# Load in Data and Libraries"
   ]
  },
  {
   "cell_type": "code",
   "execution_count": 69,
   "metadata": {},
   "outputs": [],
   "source": [
    "import numpy as np\n",
    "import mltools as ml\n",
    "import matplotlib.pyplot as plt\n",
    "from sklearn.metrics import mean_squared_error as MSE\n",
    "from sklearn.model_selection import cross_val_score\n",
    "from sklearn.ensemble import GradientBoostingClassifier as GBC, GradientBoostingRegressor as GBR, AdaBoostClassifier as ABC, RandomForestClassifier as RFC\n",
    "from sklearn.neural_network import MLPClassifier as NNC"
   ]
  },
  {
   "cell_type": "code",
   "execution_count": 251,
   "metadata": {},
   "outputs": [
    {
     "name": "stdout",
     "output_type": "stream",
     "text": [
      "Shapes:\n",
      "X Test: (7422, 107)\n",
      "X Train: (3712, 107)\n",
      "Y Train: (3712,)\n",
      "X validation: (3711, 107)\n",
      "Y validation: (3711,)\n"
     ]
    }
   ],
   "source": [
    "# whole data set\n",
    "Xte = np.genfromtxt('data/X_test.txt',delimiter = ',')\n",
    "X = np.genfromtxt('data/X_train.txt',delimiter = ',')\n",
    "Y = np.genfromtxt('data/Y_train.txt',delimiter = ',')\n",
    "\n",
    "# split 75/25 training/validation\n",
    "Xtr,Xval,Ytr,Yval = ml.splitData(X,Y,.50)\n",
    "\n",
    "print(f'Shapes:\\nX Test: {Xte.shape}\\nX Train: {Xtr.shape}\\nY Train: {Ytr.shape}\\nX validation: {Xval.shape}\\nY validation: {Yval.shape}')"
   ]
  },
  {
   "cell_type": "markdown",
   "metadata": {},
   "source": [
    "# Visualizing out data"
   ]
  },
  {
   "cell_type": "markdown",
   "metadata": {},
   "source": [
    "compress dimensions for each input type through Principle Component Analysis, graph each against class values, and graph three dimensionally with all 3 features together."
   ]
  },
  {
   "cell_type": "code",
   "execution_count": 253,
   "metadata": {},
   "outputs": [],
   "source": [
    "from sklearn.decomposition import PCA"
   ]
  },
  {
   "cell_type": "code",
   "execution_count": 262,
   "metadata": {},
   "outputs": [
    {
     "name": "stdout",
     "output_type": "stream",
     "text": [
      "(7423, 107)\n",
      "(1,)\n"
     ]
    }
   ],
   "source": [
    "pca = PCA(n_components=1)\n",
    "pca.fit(X)\n",
    "# print(pca.explained_variance_ratio_)\n",
    "print(X.shape)\n",
    "print(pca.singular_values_.shape)"
   ]
  },
  {
   "cell_type": "code",
   "execution_count": 208,
   "metadata": {},
   "outputs": [],
   "source": [
    "def kaggle_submit(name,yhat):\n",
    "    # write kaggle predictions out to text file\n",
    "    Yte = np.vstack((np.arange(Xte.shape[0]), yhat)).T \n",
    "    np.savetxt(name,Yte,'%d, %.2f',header='Id,Predicted',comments='',delimiter=',') "
   ]
  },
  {
   "cell_type": "markdown",
   "metadata": {},
   "source": [
    "# Adaboost Classifier"
   ]
  },
  {
   "cell_type": "code",
   "execution_count": 227,
   "metadata": {},
   "outputs": [
    {
     "data": {
      "text/plain": [
       "0.6304132973944295"
      ]
     },
     "execution_count": 227,
     "metadata": {},
     "output_type": "execute_result"
    }
   ],
   "source": [
    "adaLearner = ABC(n_estimators=100)\n",
    "adaLearner.fit(Xtr,Ytr)\n",
    "scores = cross_val_score(adaLearner, Xval, Yval ,cv=5)\n",
    "scores.mean()"
   ]
  },
  {
   "cell_type": "code",
   "execution_count": 211,
   "metadata": {},
   "outputs": [],
   "source": [
    "# write kaggle predictions out to text file\n",
    "kaggle_submit('Y_submit_abc.txt',clf.predict(Xte))"
   ]
  },
  {
   "cell_type": "markdown",
   "metadata": {},
   "source": [
    "# Random Forests Classifier"
   ]
  },
  {
   "cell_type": "code",
   "execution_count": 225,
   "metadata": {},
   "outputs": [
    {
     "data": {
      "text/plain": [
       "0.583516419645452"
      ]
     },
     "execution_count": 225,
     "metadata": {},
     "output_type": "execute_result"
    }
   ],
   "source": [
    "forestLearner = RFC(n_estimators=20, max_depth=30,min_samples_split=5, random_state=0)\n",
    "forestLearner = forestLearner.fit(X, Y)\n",
    "scores = cross_val_score(forestLearner, Xval, Yval ,cv=10)\n",
    "scores.mean()"
   ]
  },
  {
   "cell_type": "code",
   "execution_count": 213,
   "metadata": {},
   "outputs": [],
   "source": [
    "# write kaggle predictions out to text file\n",
    "kaggle_submit('Y_submit_rfc.txt',clf.predict(Xte))"
   ]
  },
  {
   "cell_type": "markdown",
   "metadata": {},
   "source": [
    "# Neural Network Classifier"
   ]
  },
  {
   "cell_type": "code",
   "execution_count": 224,
   "metadata": {},
   "outputs": [
    {
     "data": {
      "text/plain": [
       "0.5129310344827587"
      ]
     },
     "execution_count": 224,
     "metadata": {},
     "output_type": "execute_result"
    }
   ],
   "source": [
    "neuralLearner = NNC(solver='lbfgs', alpha=1e-5,hidden_layer_sizes=(5, 3), random_state=1)\n",
    "neuralLearner.fit(Xtr,Ytr)\n",
    "MSE(Yval,neuralLearner.predict(Xval))"
   ]
  },
  {
   "cell_type": "code",
   "execution_count": null,
   "metadata": {},
   "outputs": [],
   "source": [
    "# write kaggle predictions out to text file\n",
    "kaggle_submit('Y_submit_nnc.txt',clf.predict(Xte))"
   ]
  },
  {
   "cell_type": "markdown",
   "metadata": {},
   "source": [
    "# Gradient Boosting Classification<br>\n",
    "https://www.youtube.com/watch?v=jxuNLH5dXCs"
   ]
  },
  {
   "cell_type": "markdown",
   "metadata": {},
   "source": [
    "### Find best 'Max Depth' for individual regression learners "
   ]
  },
  {
   "cell_type": "code",
   "execution_count": 31,
   "metadata": {},
   "outputs": [
    {
     "data": {
      "image/png": "[encoded data removed]",
      "text/plain": [
       "<Figure size 432x288 with 1 Axes>"
      ]
     },
     "metadata": {
      "needs_background": "light"
     },
     "output_type": "display_data"
    }
   ],
   "source": [
    "depths = [1,3,5,10,15]\n",
    "trainMSE = []\n",
    "validationMSE = []\n",
    "for d in depths:\n",
    "    learner = GBC(n_estimators=100, learning_rate=0.1,max_depth=d, random_state=0).fit(Xtr, Ytr)\n",
    "    validationMSE.append(MSE(Yval,learner.predict(Xval))) \n",
    "    trainMSE.append(MSE(Ytr,learner.predict(Xtr)))\n",
    "plt.semilogy(depths, trainMSE, lw=2, marker='d', markersize=5, alpha=0.75, label='MSE TRAIN')\n",
    "plt.semilogy(depths, validationMSE, lw=2, marker='*', markersize=5, alpha=0.75, label='MSE VALIDATION')\n",
    "plt.legend(fontsize=10, loc=0)\n",
    "plt.title('Classification Learner Depth vs MSE')\n",
    "plt.xlabel('Depth')\n",
    "plt.ylabel('MSE')\n",
    "plt.show()"
   ]
  },
  {
   "cell_type": "markdown",
   "metadata": {},
   "source": [
    "Optimal Max Depth = 5"
   ]
  },
  {
   "cell_type": "code",
   "execution_count": 35,
   "metadata": {},
   "outputs": [
    {
     "data": {
      "text/plain": [
       "0.34060900026946916"
      ]
     },
     "execution_count": 35,
     "metadata": {},
     "output_type": "execute_result"
    }
   ],
   "source": [
    "optimalLearner = GBC(n_estimators=100, learning_rate=0.1,max_depth=5, random_state=0).fit(Xtr, Ytr)\n",
    "MSE(Yval,optimalLearner.predict(Xval))"
   ]
  },
  {
   "cell_type": "code",
   "execution_count": 21,
   "metadata": {},
   "outputs": [],
   "source": [
    "# write kaggle predictions out to text file\n",
    "kaggle_submit('Y_submit_gbc.txt',optimalLearner.predict(Xte))"
   ]
  },
  {
   "cell_type": "markdown",
   "metadata": {},
   "source": [
    "# Gradient Boosting Regression"
   ]
  },
  {
   "cell_type": "markdown",
   "metadata": {},
   "source": [
    "### Find best 'Max Depth' for individual regression learners "
   ]
  },
  {
   "cell_type": "code",
   "execution_count": 201,
   "metadata": {},
   "outputs": [
    {
     "data": {
      "image/png": "[encoded data removed]",
      "text/plain": [
       "<Figure size 432x288 with 1 Axes>"
      ]
     },
     "metadata": {
      "needs_background": "light"
     },
     "output_type": "display_data"
    }
   ],
   "source": [
    "depths = [1,3,5,10,15]\n",
    "trainMSE = []\n",
    "validationMSE = []\n",
    "for d in depths:\n",
    "    learner = GBR(n_estimators=100, learning_rate=0.1,max_depth=d, random_state=0).fit(Xtr, Ytr)\n",
    "    validationMSE.append(MSE(Yval,learner.predict(Xval)))\n",
    "    trainMSE.append(MSE(Ytr,learner.predict(Xtr)))\n",
    "plt.semilogy(depths, trainMSE, lw=2, marker='d', markersize=5, alpha=0.75, label='MSE TRAIN')\n",
    "plt.semilogy(depths, validationMSE, lw=2, marker='*', markersize=5, alpha=0.75, label='MSE VALIDATION')\n",
    "plt.legend(fontsize=10, loc=0)\n",
    "plt.title('Regresssion Learner Depth vs MSE')\n",
    "plt.xlabel('Depth')\n",
    "plt.ylabel('MSE')\n",
    "plt.show()"
   ]
  },
  {
   "cell_type": "markdown",
   "metadata": {},
   "source": [
    "Optimal depth at 5"
   ]
  },
  {
   "cell_type": "code",
   "execution_count": 204,
   "metadata": {},
   "outputs": [
    {
     "data": {
      "text/plain": [
       "0.2051897490066508"
      ]
     },
     "execution_count": 204,
     "metadata": {},
     "output_type": "execute_result"
    }
   ],
   "source": [
    "optimalLearner = GBR(n_estimators=100, learning_rate=0.1,max_depth=3, random_state=0).fit(Xtr, Ytr)\n",
    "MSE(Yval,optimalLearner.predict(Xval))"
   ]
  },
  {
   "cell_type": "code",
   "execution_count": 250,
   "metadata": {},
   "outputs": [],
   "source": [
    "# write kaggle predictions out to text file\n",
    "kaggle_submit('Y_submit_gbr.txt',optimalLearner.predict(Xte))"
   ]
  },
  {
   "cell_type": "markdown",
   "metadata": {},
   "source": [
    "# Märtínikosh Ensemble Classifier \n",
    "### M.E.C. attempts to look at the features from different domains individually, treating each of their impacts on the  class prediction as independent of each other\n",
    "(the name of our ensemble is an ensemble of our names) <br>\n"
   ]
  },
  {
   "cell_type": "code",
   "execution_count": 242,
   "metadata": {},
   "outputs": [],
   "source": [
    "from sklearn.svm import SVR\n",
    "X = np.genfromtxt('data/X_train.txt',delimiter = ',')\n",
    "Y = np.genfromtxt('data/Y_train.txt',delimiter = ',')\n",
    "\n",
    "# split 75/25 training/validation\n",
    "Xtr,Xval,Ytr,Yval = ml.splitData(X,Y,.75)"
   ]
  },
  {
   "cell_type": "code",
   "execution_count": 248,
   "metadata": {},
   "outputs": [],
   "source": [
    "class martinikosh_ensemble():\n",
    "    def __init__(self,X):\n",
    "        #extract real-valued features\n",
    "        self.XReal  = X[:,:41]\n",
    "        #extract Discete-valued features\n",
    "        self.XDiscrete  = X[:,41:69]\n",
    "        #extract Binary-valued features\n",
    "        self.XBinary    = X[:,69:107]\n",
    "        \n",
    "        self.realLearner = None # trees ?\n",
    "        self.discreteLearner = None #boost ?\n",
    "        self.binaryLearner = None #svm, neural networks ? \n",
    "        \n",
    "        self.threshold = .5\n",
    "        \n",
    "    def predict(self,Xte):\n",
    "        Yhat_1 = self.realLearner.predict(Xte[:,:41])\n",
    "        Yhat_2 = self.discreteLearner.predict(Xte[:,41:69])\n",
    "        Yhat_3 = self.binaryLearner.predict(Xte[:,69:107])\n",
    "        \n",
    "        Yhat = np.stack((Yhat_1,Yhat_2,Yhat_3),axis=1)\n",
    "        Yhat = np.average(Yhat,axis=1)\n",
    "        \n",
    "        for i in range(Yhat.shape[0]):\n",
    "            Yhat[i] = 1 if Yhat[i] > self.threshold else 0\n",
    "        return Yhat\n",
    "        \n",
    "    def learn(self,Y):\n",
    "        self.realLearner = RFC(n_estimators=100, max_depth=20,min_samples_split=5, random_state=0).fit(self.XReal,Y)\n",
    "        self.discreteLearner = GBR(n_estimators=100, learning_rate=0.1,max_depth=3, random_state=0).fit(self.XDiscrete, Y)\n",
    "        self.binaryLearner = NNC(solver='lbfgs', alpha=1e-5,hidden_layer_sizes=(5, 2), random_state=1).fit(self.XBinary,Y)\n",
    "    "
   ]
  },
  {
   "cell_type": "code",
   "execution_count": 246,
   "metadata": {},
   "outputs": [
    {
     "data": {
      "text/plain": [
       "0.4089439655172414"
      ]
     },
     "execution_count": 246,
     "metadata": {},
     "output_type": "execute_result"
    }
   ],
   "source": [
    "mec = martinikosh_ensemble(Xtr)\n",
    "mec.learn(Ytr)\n",
    "MSE(Yval,mec.predict(Xval))"
   ]
  },
  {
   "cell_type": "code",
   "execution_count": 249,
   "metadata": {},
   "outputs": [],
   "source": [
    "# write kaggle predictions out to text file\n",
    "kaggle_submit('Y_submit_mec.txt',mec.predict(Xte))"
   ]
  }
 ],
 "metadata": {
  "kernelspec": {
   "display_name": "Python 3",
   "language": "python",
   "name": "python3"
  },
  "language_info": {
   "codemirror_mode": {
    "name": "ipython",
    "version": 3
   },
   "file_extension": ".py",
   "mimetype": "text/x-python",
   "name": "python",
   "nbconvert_exporter": "python",
   "pygments_lexer": "ipython3",
   "version": "3.7.0"
  }
 },
 "nbformat": 4,
 "nbformat_minor": 2
}
